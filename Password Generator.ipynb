{
 "cells": [
  {
   "cell_type": "code",
   "execution_count": 1,
   "id": "3480a830",
   "metadata": {},
   "outputs": [
    {
     "name": "stdout",
     "output_type": "stream",
     "text": [
      "Welcome to the Strong Password Generator!\n",
      "Enter the desired password length (minimum 8 characters): 8\n",
      "Generated Password: a,mcsLK7\n",
      "Thank you for using the Strong Password Generator!\n"
     ]
    }
   ],
   "source": [
    "import random\n",
    "import string\n",
    "\n",
    "def generate_password(length=12):\n",
    "    # Define character sets for the password\n",
    "    lowercase_letters = string.ascii_lowercase\n",
    "    uppercase_letters = string.ascii_uppercase\n",
    "    digits = string.digits\n",
    "    special_characters = '!@#$%^&*()_+-=[]{}|;:,.<>?'\n",
    "\n",
    "    # Combine all character sets\n",
    "    all_characters = lowercase_letters + uppercase_letters + digits + special_characters\n",
    "\n",
    "    # Check if the requested password length is valid\n",
    "    if length < 8:\n",
    "        print(\"Password length must be at least 8 characters.\")\n",
    "        return None\n",
    "\n",
    "    # Generate the password\n",
    "    password = random.choice(lowercase_letters)\n",
    "    password += random.choice(uppercase_letters)\n",
    "    password += random.choice(digits)\n",
    "    password += random.choice(special_characters)\n",
    "\n",
    "    # Fill the remaining password length with random characters\n",
    "    for _ in range(length - 4):\n",
    "        password += random.choice(all_characters)\n",
    "\n",
    "    # Shuffle the characters to make the password more random\n",
    "    password_list = list(password)\n",
    "    random.shuffle(password_list)\n",
    "    password = ''.join(password_list)\n",
    "\n",
    "    return password\n",
    "\n",
    "if __name__ == \"__main__\":\n",
    "    print(\"Welcome to the Strong Password Generator!\")\n",
    "    \n",
    "    while True:\n",
    "        try:\n",
    "            password_length = int(input(\"Enter the desired password length (minimum 8 characters): \"))\n",
    "            if password_length >= 4:\n",
    "                password = generate_password(password_length)\n",
    "                print(\"Generated Password:\", password)\n",
    "                break\n",
    "            else:\n",
    "                print(\"Password length must be at least 8 characters.\")\n",
    "        except ValueError:\n",
    "            print(\"Please enter a valid number for password length.\")\n",
    "    \n",
    "    print(\"Thank you for using the Strong Password Generator!\")\n"
   ]
  },
  {
   "cell_type": "code",
   "execution_count": null,
   "id": "52b022cd",
   "metadata": {},
   "outputs": [],
   "source": []
  }
 ],
 "metadata": {
  "kernelspec": {
   "display_name": "Python 3 (ipykernel)",
   "language": "python",
   "name": "python3"
  },
  "language_info": {
   "codemirror_mode": {
    "name": "ipython",
    "version": 3
   },
   "file_extension": ".py",
   "mimetype": "text/x-python",
   "name": "python",
   "nbconvert_exporter": "python",
   "pygments_lexer": "ipython3",
   "version": "3.9.12"
  }
 },
 "nbformat": 4,
 "nbformat_minor": 5
}
